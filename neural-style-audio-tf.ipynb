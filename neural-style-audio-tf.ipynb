{
 "cells": [
  {
   "cell_type": "code",
   "execution_count": null,
   "metadata": {
    "jupyter": {
     "outputs_hidden": false
    }
   },
   "outputs": [],
   "source": [
    "import librosa\n",
    "import matplotlib.pyplot as plt\n",
    "import numpy as np\n",
    "import soundfile as sf\n",
    "import tensorflow as tf\n",
    "import warnings\n",
    "\n",
    "from IPython.display import Audio, display\n",
    "\n",
    "%matplotlib inline\n",
    "\n",
    "warnings.filterwarnings('ignore')\n",
    "warnings.simplefilter('ignore')"
   ]
  },
  {
   "cell_type": "markdown",
   "metadata": {},
   "source": [
    "### Load style and content"
   ]
  },
  {
   "cell_type": "code",
   "execution_count": null,
   "metadata": {
    "jupyter": {
     "outputs_hidden": true
    }
   },
   "outputs": [],
   "source": [
    "CONTENT_FILENAME = \"wavs/songs/imperial.mp3\"\n",
    "STYLE_FILENAME = \"wavs/songs/usa.mp3\"\n",
    "\n",
    "#CONTENT_FILENAME = './wavs/corpus/johntejada-1.wav'\n",
    "#STYLE_FILENAME = './wavs/target/beat-box-2.wav'"
   ]
  },
  {
   "cell_type": "code",
   "execution_count": null,
   "metadata": {
    "jupyter": {
     "outputs_hidden": false
    }
   },
   "outputs": [],
   "source": [
    "display(Audio(CONTENT_FILENAME))\n",
    "display(Audio(STYLE_FILENAME))"
   ]
  },
  {
   "cell_type": "code",
   "execution_count": null,
   "metadata": {
    "jupyter": {
     "outputs_hidden": true
    }
   },
   "outputs": [],
   "source": [
    "# Reads wav file and produces spectrum\n",
    "# Fourier phases are ignored\n",
    "N_FFT = 2048\n",
    "def read_audio_spectum(filename, nfft=N_FFT):\n",
    "    x, fs = librosa.load(filename)\n",
    "    S = librosa.stft(x, n_fft=nfft)\n",
    "    p = np.angle(S)\n",
    "\n",
    "    S = np.log1p(np.abs(S[:, :430]))  \n",
    "    return S, fs"
   ]
  },
  {
   "cell_type": "code",
   "execution_count": null,
   "metadata": {},
   "outputs": [],
   "source": [
    "a_content, fs = read_audio_spectum(CONTENT_FILENAME, N_FFT)\n",
    "a_style, fs = read_audio_spectum(STYLE_FILENAME, N_FFT)\n",
    "\n",
    "N_SAMPLES = min(a_style.shape[1], a_content.shape[1])\n",
    "N_CHANNELS = min(a_style.shape[0], a_content.shape[0])\n",
    "\n",
    "a_content = a_content[:N_CHANNELS, :N_SAMPLES]\n",
    "a_style = a_style[:N_CHANNELS, :N_SAMPLES]"
   ]
  },
  {
   "cell_type": "markdown",
   "metadata": {},
   "source": [
    "### Visualize spectrograms for content and style tracks"
   ]
  },
  {
   "cell_type": "code",
   "execution_count": null,
   "metadata": {
    "jupyter": {
     "outputs_hidden": false
    }
   },
   "outputs": [],
   "source": [
    "plt.figure(figsize=(10, 5))\n",
    "plt.subplot(1, 2, 1)\n",
    "plt.title('Content')\n",
    "plt.imshow(a_content[:400,:])\n",
    "plt.subplot(1, 2, 2)\n",
    "plt.title('Style')\n",
    "plt.imshow(a_style[:400,:])\n",
    "plt.show()"
   ]
  },
  {
   "cell_type": "markdown",
   "metadata": {},
   "source": [
    "### Compute content and style feats"
   ]
  },
  {
   "cell_type": "code",
   "execution_count": null,
   "metadata": {
    "jupyter": {
     "outputs_hidden": false
    }
   },
   "outputs": [],
   "source": [
    "N_FILTERS = 4096\n",
    "\n",
    "a_content_tf = np.ascontiguousarray(a_content.T[None,None,:,:])\n",
    "a_style_tf = np.ascontiguousarray(a_style.T[None,None,:,:])\n",
    "\n",
    "# filter shape is \"[filter_height, filter_width, in_channels, out_channels]\"\n",
    "std = np.sqrt(2) * np.sqrt(2.0 / ((N_CHANNELS + N_FILTERS) * 11))\n",
    "kernel = np.random.randn(1, 11, N_CHANNELS, N_FILTERS) * std\n",
    "\n",
    "filter_g = tf.Graph()\n",
    "with filter_g.as_default(), filter_g.device('/cpu:0'), tf.Session() as sess:\n",
    "    # data shape is \"[batch, in_height, in_width, in_channels]\",\n",
    "    x = tf.placeholder('float32', [1, 1, N_SAMPLES, N_CHANNELS], name=\"x\")\n",
    "\n",
    "    kernel_tf = tf.constant(kernel, name=\"kernel\", dtype='float32')\n",
    "    conv = tf.nn.conv2d(\n",
    "        x,\n",
    "        kernel_tf,\n",
    "        strides=[1, 1, 1, 1],\n",
    "        padding=\"VALID\",\n",
    "        name=\"conv\")\n",
    "    \n",
    "    net = tf.nn.relu(conv)\n",
    "\n",
    "    content_features = net.eval(feed_dict={x: a_content_tf})\n",
    "    style_features = net.eval(feed_dict={x: a_style_tf})\n",
    "    \n",
    "    features = np.reshape(style_features, (-1, N_FILTERS))\n",
    "    style_gram = np.matmul(features.T, features) / N_SAMPLES"
   ]
  },
  {
   "cell_type": "markdown",
   "metadata": {},
   "source": [
    "### Optimize"
   ]
  },
  {
   "cell_type": "code",
   "execution_count": null,
   "metadata": {
    "jupyter": {
     "outputs_hidden": false
    }
   },
   "outputs": [],
   "source": [
    "ALPHA = 1e-2\n",
    "MAX_ITER = 500\n",
    "\n",
    "result = None\n",
    "\n",
    "gen_g = tf.Graph()\n",
    "with gen_g.as_default(), gen_g.device('/cpu:0'):\n",
    "    x = tf.Variable(np.random.randn(1, 1, N_SAMPLES, N_CHANNELS).astype(np.float32)*1e-3, name=\"x\")\n",
    "\n",
    "    kernel_tf = tf.constant(kernel, name=\"kernel\", dtype='float32')\n",
    "    conv = tf.nn.conv2d(\n",
    "        x,\n",
    "        kernel_tf,\n",
    "        strides=[1, 1, 1, 1],\n",
    "        padding=\"VALID\",\n",
    "        name=\"conv\")\n",
    "\n",
    "    net = tf.nn.relu(conv)\n",
    "\n",
    "    content_loss = ALPHA * 2 * tf.nn.l2_loss(net - content_features)\n",
    "\n",
    "    style_loss = 0\n",
    "\n",
    "    _, height, width, channels = map(lambda i: i.value, net.get_shape())\n",
    "\n",
    "    size = height * width * channels\n",
    "    feats = tf.reshape(net, (-1, channels))\n",
    "    gram = tf.matmul(tf.transpose(feats), feats) / N_SAMPLES\n",
    "    style_loss = 2 * tf.nn.l2_loss(gram - style_gram)\n",
    "\n",
    "    # Overall loss\n",
    "    loss = content_loss + style_loss\n",
    "\n",
    "    opt = tf.contrib.opt.ScipyOptimizerInterface(\n",
    "          loss, method='L-BFGS-B', options={'maxiter': MAX_ITER})\n",
    "\n",
    "    # Optimization\n",
    "    with tf.Session() as sess:\n",
    "        sess.run(tf.initialize_all_variables())\n",
    "\n",
    "        print('Started optimization')\n",
    "        opt.minimize(sess)\n",
    "\n",
    "        print('Final loss:', loss.eval())\n",
    "        result = x.eval()"
   ]
  },
  {
   "cell_type": "markdown",
   "metadata": {},
   "source": [
    "### Invert spectrogram and save the result"
   ]
  },
  {
   "cell_type": "code",
   "execution_count": null,
   "metadata": {
    "jupyter": {
     "outputs_hidden": false
    }
   },
   "outputs": [],
   "source": [
    "a = np.zeros_like(a_content)\n",
    "a[:N_CHANNELS,:] = np.exp(result[0,0].T) - 1\n",
    "\n",
    "# phase reconstruction\n",
    "p = 2 * np.pi * np.random.random_sample(a.shape) - np.pi\n",
    "for i in range(128):\n",
    "    S = a * np.exp(1j*p)\n",
    "    x = librosa.istft(S)\n",
    "    p = np.angle(librosa.stft(x, n_fft=N_FFT))\n",
    "\n",
    "#OUTPUT_FILENAME = 'outputs/john1-box2-500.wav'\n",
    "#sf.write(OUTPUT_FILENAME, x, fs)"
   ]
  },
  {
   "cell_type": "code",
   "execution_count": null,
   "metadata": {},
   "outputs": [],
   "source": [
    "display(Audio(x, rate=fs))"
   ]
  },
  {
   "cell_type": "code",
   "execution_count": null,
   "metadata": {
    "jupyter": {
     "outputs_hidden": false
    }
   },
   "outputs": [],
   "source": [
    "print(OUTPUT_FILENAME)\n",
    "display(Audio(OUTPUT_FILENAME))"
   ]
  },
  {
   "cell_type": "markdown",
   "metadata": {},
   "source": [
    "### Visualize spectrograms"
   ]
  },
  {
   "cell_type": "code",
   "execution_count": null,
   "metadata": {
    "jupyter": {
     "outputs_hidden": false
    }
   },
   "outputs": [],
   "source": [
    "plt.figure(figsize=(15,5))\n",
    "plt.subplot(1,3,1)\n",
    "plt.title('Content')\n",
    "plt.imshow(a_content[:400,:])\n",
    "plt.subplot(1,3,2)\n",
    "plt.title('Style')\n",
    "plt.imshow(a_style[:400,:])\n",
    "plt.subplot(1,3,3)\n",
    "plt.title('Result')\n",
    "plt.imshow(a[:400,:])\n",
    "plt.show()"
   ]
  },
  {
   "cell_type": "code",
   "execution_count": null,
   "metadata": {},
   "outputs": [],
   "source": []
  }
 ],
 "metadata": {
  "anaconda-cloud": {},
  "kernelspec": {
   "display_name": "Python 3 (ipykernel)",
   "language": "python",
   "name": "python3"
  },
  "language_info": {
   "codemirror_mode": {
    "name": "ipython",
    "version": 3
   },
   "file_extension": ".py",
   "mimetype": "text/x-python",
   "name": "python",
   "nbconvert_exporter": "python",
   "pygments_lexer": "ipython3",
   "version": "3.7.12"
  }
 },
 "nbformat": 4,
 "nbformat_minor": 4
}
