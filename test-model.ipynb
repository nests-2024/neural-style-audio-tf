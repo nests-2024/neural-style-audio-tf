{
 "cells": [
  {
   "cell_type": "code",
   "execution_count": null,
   "metadata": {
    "jupyter": {
     "outputs_hidden": false
    }
   },
   "outputs": [],
   "source": [
    "import matplotlib.pyplot as plt\n",
    "import model\n",
    "\n",
    "from IPython.display import Audio, display\n",
    "from utils import read_audio_spectum, spectrum_to_audio\n",
    "\n",
    "import warnings\n",
    "warnings.filterwarnings('ignore')\n",
    "warnings.simplefilter('ignore')"
   ]
  },
  {
   "cell_type": "code",
   "execution_count": null,
   "metadata": {
    "jupyter": {
     "outputs_hidden": true
    }
   },
   "outputs": [],
   "source": [
    "CONTENT_FILENAME = \"wavs/songs/imperial.mp3\"\n",
    "STYLE_FILENAME = \"wavs/songs/usa.mp3\"\n",
    "\n",
    "#CONTENT_FILENAME = './wavs/corpus/johntejada-1.wav'\n",
    "#STYLE_FILENAME = './wavs/target/beat-box-2.wav'"
   ]
  },
  {
   "cell_type": "code",
   "execution_count": null,
   "metadata": {},
   "outputs": [],
   "source": [
    "content_spectrum, sr = read_audio_spectum(CONTENT_FILENAME)\n",
    "style_spectrum, _ = read_audio_spectum(STYLE_FILENAME)"
   ]
  },
  {
   "cell_type": "code",
   "execution_count": null,
   "metadata": {},
   "outputs": [],
   "source": [
    "gen_spectrum = model.run(\n",
    "    content_spectrum,\n",
    "    style_spectrum,\n",
    "    num_filters=4096,\n",
    "    alpha=1e-2,\n",
    "    max_iterations=100\n",
    ")\n",
    "gen_wav = spectrum_to_audio(gen_spectrum)"
   ]
  },
  {
   "cell_type": "code",
   "execution_count": null,
   "metadata": {
    "jupyter": {
     "outputs_hidden": false
    }
   },
   "outputs": [],
   "source": [
    "plt.figure(figsize=(15,5))\n",
    "plt.subplot(1, 3, 1)\n",
    "plt.title('Content')\n",
    "plt.imshow(content_spectrum[:400, :])\n",
    "plt.subplot(1, 3, 2)\n",
    "plt.title('Style')\n",
    "plt.imshow(style_spectrum[:400, :])\n",
    "plt.subplot(1, 3, 3)\n",
    "plt.title('Result')\n",
    "plt.imshow(gen_spectrum[:400, :])\n",
    "plt.show()\n",
    "\n",
    "display(Audio(CONTENT_FILENAME))\n",
    "display(Audio(STYLE_FILENAME))\n",
    "display(Audio(gen_wav, rate=sr))"
   ]
  },
  {
   "cell_type": "code",
   "execution_count": null,
   "metadata": {},
   "outputs": [],
   "source": []
  }
 ],
 "metadata": {
  "anaconda-cloud": {},
  "kernelspec": {
   "display_name": "Python 3 (ipykernel)",
   "language": "python",
   "name": "python3"
  },
  "language_info": {
   "codemirror_mode": {
    "name": "ipython",
    "version": 3
   },
   "file_extension": ".py",
   "mimetype": "text/x-python",
   "name": "python",
   "nbconvert_exporter": "python",
   "pygments_lexer": "ipython3",
   "version": "3.7.12"
  }
 },
 "nbformat": 4,
 "nbformat_minor": 4
}
